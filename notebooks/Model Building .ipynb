{
 "cells": [
  {
   "cell_type": "code",
   "execution_count": 1,
   "id": "06b75a64",
   "metadata": {},
   "outputs": [],
   "source": [
    "import pandas as pd \n",
    "import numpy as np\n",
    "import xgboost as xgb\n",
    "\n",
    "from sklearn.ensemble import RandomForestRegressor\n",
    "from sklearn.linear_model import (LinearRegression,Lasso,ElasticNet,Ridge)\n",
    "from sklearn.metrics import r2_score,mean_absolute_error,mean_squared_error\n"
   ]
  },
  {
   "cell_type": "code",
   "execution_count": 2,
   "id": "f4673943",
   "metadata": {},
   "outputs": [],
   "source": [
    "from xgboost import XGBRegressor"
   ]
  },
  {
   "cell_type": "code",
   "execution_count": 3,
   "id": "27df2dfc",
   "metadata": {},
   "outputs": [
    {
     "data": {
      "text/html": [
       "<div>\n",
       "<style scoped>\n",
       "    .dataframe tbody tr th:only-of-type {\n",
       "        vertical-align: middle;\n",
       "    }\n",
       "\n",
       "    .dataframe tbody tr th {\n",
       "        vertical-align: top;\n",
       "    }\n",
       "\n",
       "    .dataframe thead th {\n",
       "        text-align: right;\n",
       "    }\n",
       "</style>\n",
       "<table border=\"1\" class=\"dataframe\">\n",
       "  <thead>\n",
       "    <tr style=\"text-align: right;\">\n",
       "      <th></th>\n",
       "      <th>Delivery_person_Age</th>\n",
       "      <th>Delivery_person_Ratings</th>\n",
       "      <th>Weather_conditions</th>\n",
       "      <th>Road_traffic_density</th>\n",
       "      <th>Vehicle_condition</th>\n",
       "      <th>Type_of_order</th>\n",
       "      <th>Type_of_vehicle</th>\n",
       "      <th>multiple_deliveries</th>\n",
       "      <th>Festival</th>\n",
       "      <th>City</th>\n",
       "      <th>Time_taken (min)</th>\n",
       "      <th>Order_pickup_time</th>\n",
       "      <th>Year</th>\n",
       "      <th>Month</th>\n",
       "      <th>Day</th>\n",
       "    </tr>\n",
       "  </thead>\n",
       "  <tbody>\n",
       "    <tr>\n",
       "      <th>0</th>\n",
       "      <td>21.0</td>\n",
       "      <td>4.7</td>\n",
       "      <td>Stormy</td>\n",
       "      <td>High</td>\n",
       "      <td>1</td>\n",
       "      <td>Meal</td>\n",
       "      <td>motorcycle</td>\n",
       "      <td>1.0</td>\n",
       "      <td>No</td>\n",
       "      <td>Metropolitian</td>\n",
       "      <td>23</td>\n",
       "      <td>0.50</td>\n",
       "      <td>2022</td>\n",
       "      <td>2</td>\n",
       "      <td>13</td>\n",
       "    </tr>\n",
       "    <tr>\n",
       "      <th>1</th>\n",
       "      <td>23.0</td>\n",
       "      <td>4.7</td>\n",
       "      <td>Sandstorms</td>\n",
       "      <td>Medium</td>\n",
       "      <td>1</td>\n",
       "      <td>Drinks</td>\n",
       "      <td>scooter</td>\n",
       "      <td>1.0</td>\n",
       "      <td>No</td>\n",
       "      <td>Metropolitian</td>\n",
       "      <td>21</td>\n",
       "      <td>0.10</td>\n",
       "      <td>2022</td>\n",
       "      <td>4</td>\n",
       "      <td>3</td>\n",
       "    </tr>\n",
       "    <tr>\n",
       "      <th>2</th>\n",
       "      <td>34.0</td>\n",
       "      <td>4.3</td>\n",
       "      <td>Sandstorms</td>\n",
       "      <td>Low</td>\n",
       "      <td>0</td>\n",
       "      <td>Buffet</td>\n",
       "      <td>motorcycle</td>\n",
       "      <td>0.0</td>\n",
       "      <td>No</td>\n",
       "      <td>Metropolitian</td>\n",
       "      <td>20</td>\n",
       "      <td>0.10</td>\n",
       "      <td>2022</td>\n",
       "      <td>2</td>\n",
       "      <td>13</td>\n",
       "    </tr>\n",
       "    <tr>\n",
       "      <th>3</th>\n",
       "      <td>24.0</td>\n",
       "      <td>4.7</td>\n",
       "      <td>Fog</td>\n",
       "      <td>Jam</td>\n",
       "      <td>1</td>\n",
       "      <td>Snack</td>\n",
       "      <td>scooter</td>\n",
       "      <td>1.0</td>\n",
       "      <td>No</td>\n",
       "      <td>Metropolitian</td>\n",
       "      <td>41</td>\n",
       "      <td>0.55</td>\n",
       "      <td>2022</td>\n",
       "      <td>2</td>\n",
       "      <td>14</td>\n",
       "    </tr>\n",
       "    <tr>\n",
       "      <th>4</th>\n",
       "      <td>29.0</td>\n",
       "      <td>4.5</td>\n",
       "      <td>Sandstorms</td>\n",
       "      <td>Jam</td>\n",
       "      <td>2</td>\n",
       "      <td>Buffet</td>\n",
       "      <td>electric_scooter</td>\n",
       "      <td>1.0</td>\n",
       "      <td>No</td>\n",
       "      <td>Metropolitian</td>\n",
       "      <td>20</td>\n",
       "      <td>0.10</td>\n",
       "      <td>2022</td>\n",
       "      <td>2</td>\n",
       "      <td>4</td>\n",
       "    </tr>\n",
       "  </tbody>\n",
       "</table>\n",
       "</div>"
      ],
      "text/plain": [
       "   Delivery_person_Age  Delivery_person_Ratings Weather_conditions  \\\n",
       "0                 21.0                      4.7             Stormy   \n",
       "1                 23.0                      4.7         Sandstorms   \n",
       "2                 34.0                      4.3         Sandstorms   \n",
       "3                 24.0                      4.7                Fog   \n",
       "4                 29.0                      4.5         Sandstorms   \n",
       "\n",
       "  Road_traffic_density  Vehicle_condition Type_of_order   Type_of_vehicle  \\\n",
       "0                 High                  1          Meal        motorcycle   \n",
       "1               Medium                  1        Drinks           scooter   \n",
       "2                  Low                  0        Buffet        motorcycle   \n",
       "3                  Jam                  1         Snack           scooter   \n",
       "4                  Jam                  2        Buffet  electric_scooter   \n",
       "\n",
       "   multiple_deliveries Festival           City  Time_taken (min)  \\\n",
       "0                  1.0       No  Metropolitian                23   \n",
       "1                  1.0       No  Metropolitian                21   \n",
       "2                  0.0       No  Metropolitian                20   \n",
       "3                  1.0       No  Metropolitian                41   \n",
       "4                  1.0       No  Metropolitian                20   \n",
       "\n",
       "   Order_pickup_time  Year  Month  Day  \n",
       "0               0.50  2022      2   13  \n",
       "1               0.10  2022      4    3  \n",
       "2               0.10  2022      2   13  \n",
       "3               0.55  2022      2   14  \n",
       "4               0.10  2022      2    4  "
      ]
     },
     "execution_count": 3,
     "metadata": {},
     "output_type": "execute_result"
    }
   ],
   "source": [
    "df = pd.read_csv('data/clean_data.csv')\n",
    "df.head()"
   ]
  },
  {
   "cell_type": "code",
   "execution_count": 80,
   "id": "93206adb",
   "metadata": {},
   "outputs": [
    {
     "data": {
      "text/plain": [
       "Metropolitian    23559\n",
       "Urban             7126\n",
       "Semi-Urban          59\n",
       "Name: City, dtype: int64"
      ]
     },
     "execution_count": 80,
     "metadata": {},
     "output_type": "execute_result"
    }
   ],
   "source": [
    "df['City'].value_counts()"
   ]
  },
  {
   "cell_type": "code",
   "execution_count": 4,
   "id": "15a5edb0",
   "metadata": {},
   "outputs": [],
   "source": [
    "## Independent and dependent features\n",
    "X = df.drop(labels=['Time_taken (min)'],axis=1)\n",
    "Y = df[['Time_taken (min)']]"
   ]
  },
  {
   "cell_type": "code",
   "execution_count": null,
   "id": "0964d58d",
   "metadata": {},
   "outputs": [],
   "source": [
    "    "
   ]
  },
  {
   "cell_type": "code",
   "execution_count": 5,
   "id": "d1afc860",
   "metadata": {},
   "outputs": [
    {
     "data": {
      "text/html": [
       "<div>\n",
       "<style scoped>\n",
       "    .dataframe tbody tr th:only-of-type {\n",
       "        vertical-align: middle;\n",
       "    }\n",
       "\n",
       "    .dataframe tbody tr th {\n",
       "        vertical-align: top;\n",
       "    }\n",
       "\n",
       "    .dataframe thead th {\n",
       "        text-align: right;\n",
       "    }\n",
       "</style>\n",
       "<table border=\"1\" class=\"dataframe\">\n",
       "  <thead>\n",
       "    <tr style=\"text-align: right;\">\n",
       "      <th></th>\n",
       "      <th>Time_taken (min)</th>\n",
       "    </tr>\n",
       "  </thead>\n",
       "  <tbody>\n",
       "    <tr>\n",
       "      <th>0</th>\n",
       "      <td>23</td>\n",
       "    </tr>\n",
       "    <tr>\n",
       "      <th>1</th>\n",
       "      <td>21</td>\n",
       "    </tr>\n",
       "    <tr>\n",
       "      <th>2</th>\n",
       "      <td>20</td>\n",
       "    </tr>\n",
       "    <tr>\n",
       "      <th>3</th>\n",
       "      <td>41</td>\n",
       "    </tr>\n",
       "    <tr>\n",
       "      <th>4</th>\n",
       "      <td>20</td>\n",
       "    </tr>\n",
       "  </tbody>\n",
       "</table>\n",
       "</div>"
      ],
      "text/plain": [
       "   Time_taken (min)\n",
       "0                23\n",
       "1                21\n",
       "2                20\n",
       "3                41\n",
       "4                20"
      ]
     },
     "execution_count": 5,
     "metadata": {},
     "output_type": "execute_result"
    }
   ],
   "source": [
    "Y.head()"
   ]
  },
  {
   "cell_type": "code",
   "execution_count": 6,
   "id": "86266564",
   "metadata": {},
   "outputs": [],
   "source": [
    "# Define which columns should be ordinal-encoded and which should be scaled\n",
    "categorical_cols = X.select_dtypes(include=['object','category']).columns\n",
    "numerical_cols = X.select_dtypes(exclude='object').columns"
   ]
  },
  {
   "cell_type": "code",
   "execution_count": 7,
   "id": "eef0ab83",
   "metadata": {},
   "outputs": [
    {
     "data": {
      "text/plain": [
       "Index(['Weather_conditions', 'Road_traffic_density', 'Type_of_order',\n",
       "       'Type_of_vehicle', 'Festival', 'City'],\n",
       "      dtype='object')"
      ]
     },
     "execution_count": 7,
     "metadata": {},
     "output_type": "execute_result"
    }
   ],
   "source": [
    "categorical_cols"
   ]
  },
  {
   "cell_type": "code",
   "execution_count": 8,
   "id": "cb256604",
   "metadata": {},
   "outputs": [],
   "source": [
    "weather_col = ['Fog', 'Stormy', 'Sandstorms', 'Windy', 'Cloudy', 'Sunny']\n",
    "road_trf_col = ['Jam', 'High', 'Medium', 'Low']\n",
    "type_ord_col = ['Snack', 'Meal', 'Drinks', 'Buffet']\n",
    "type_vech_col = ['motorcycle', 'scooter', 'electric_scooter', 'bicycle']\n",
    "festival_col = ['No', 'Yes']\n",
    "city_col = ['Metropolitian', 'Urban', 'Semi-Urban']"
   ]
  },
  {
   "cell_type": "code",
   "execution_count": 9,
   "id": "b4deaa30",
   "metadata": {},
   "outputs": [
    {
     "data": {
      "text/plain": [
       "Index(['Delivery_person_Age', 'Delivery_person_Ratings', 'Vehicle_condition',\n",
       "       'multiple_deliveries', 'Order_pickup_time', 'Year', 'Month', 'Day'],\n",
       "      dtype='object')"
      ]
     },
     "execution_count": 9,
     "metadata": {},
     "output_type": "execute_result"
    }
   ],
   "source": [
    "numerical_cols"
   ]
  },
  {
   "cell_type": "code",
   "execution_count": 10,
   "id": "27efea43",
   "metadata": {},
   "outputs": [],
   "source": [
    "from sklearn.experimental import enable_iterative_imputer\n",
    "from sklearn.impute import IterativeImputer,SimpleImputer\n",
    "from sklearn.preprocessing import StandardScaler,MinMaxScaler,RobustScaler ,PolynomialFeatures\n",
    "from sklearn.preprocessing import OrdinalEncoder,OneHotEncoder,LabelEncoder\n",
    "## pipelines\n",
    "from sklearn.pipeline import Pipeline\n",
    "from sklearn.compose import ColumnTransformer"
   ]
  },
  {
   "cell_type": "code",
   "execution_count": 11,
   "id": "3ea564d4",
   "metadata": {},
   "outputs": [],
   "source": [
    "from sklearn.preprocessing import PowerTransformer\n",
    "# scaler = PowerTransformer(method = 'box-cox')\n",
    "# transformer = FunctionTransformer(np.log2, validate = True)"
   ]
  },
  {
   "cell_type": "code",
   "execution_count": 12,
   "id": "9d767b28",
   "metadata": {},
   "outputs": [],
   "source": [
    "## Numerical Pipeline\n",
    "num_pipeline=Pipeline(\n",
    "    steps=[\n",
    "    ('imputer',SimpleImputer(strategy='mean')),\n",
    "    ('Standarize',StandardScaler()),\n",
    "\n",
    "\n",
    "    ]\n",
    "\n",
    ")\n",
    "\n",
    "# Categorigal Pipeline\n",
    "cat_pipeline=Pipeline(\n",
    "    steps=[\n",
    "    ('imputer',SimpleImputer(strategy='most_frequent')),\n",
    "    ('OneHotencoder',OneHotEncoder(drop='first',sparse=False)),\n",
    "    ('Standarize',StandardScaler()),\n",
    "\n",
    "    ]\n",
    "\n",
    ")\n",
    "\n",
    "preprocessor=ColumnTransformer([\n",
    "('num_pipeline',num_pipeline,numerical_cols),\n",
    "('cat_pipeline',cat_pipeline,categorical_cols)\n",
    "])"
   ]
  },
  {
   "cell_type": "code",
   "execution_count": 13,
   "id": "24836241",
   "metadata": {},
   "outputs": [],
   "source": [
    "## Train test split\n",
    "\n",
    "from sklearn.model_selection import train_test_split\n",
    "\n",
    "\n",
    "X_train,X_test,y_train,y_test=train_test_split(X,Y,train_size=0.70,random_state=30)"
   ]
  },
  {
   "cell_type": "code",
   "execution_count": 14,
   "id": "5446171e",
   "metadata": {},
   "outputs": [
    {
     "name": "stderr",
     "output_type": "stream",
     "text": [
      "C:\\Users\\Admin\\AppData\\Local\\Programs\\Python\\Python311\\Lib\\site-packages\\sklearn\\preprocessing\\_encoders.py:868: FutureWarning: `sparse` was renamed to `sparse_output` in version 1.2 and will be removed in 1.4. `sparse_output` is ignored unless you leave `sparse` to its default value.\n",
      "  warnings.warn(\n"
     ]
    }
   ],
   "source": [
    "X_train=pd.DataFrame(preprocessor.fit_transform(X_train),columns=preprocessor.get_feature_names_out())\n",
    "X_test=pd.DataFrame(preprocessor.transform(X_test),columns=preprocessor.get_feature_names_out())"
   ]
  },
  {
   "cell_type": "code",
   "execution_count": 15,
   "id": "41920a4f",
   "metadata": {},
   "outputs": [
    {
     "data": {
      "text/plain": [
       "num_pipeline__Delivery_person_Age                 0\n",
       "num_pipeline__Delivery_person_Ratings             0\n",
       "num_pipeline__Vehicle_condition                   0\n",
       "num_pipeline__multiple_deliveries                 0\n",
       "num_pipeline__Order_pickup_time                   0\n",
       "num_pipeline__Year                                0\n",
       "num_pipeline__Month                               0\n",
       "num_pipeline__Day                                 0\n",
       "cat_pipeline__Weather_conditions_Fog              0\n",
       "cat_pipeline__Weather_conditions_Sandstorms       0\n",
       "cat_pipeline__Weather_conditions_Stormy           0\n",
       "cat_pipeline__Weather_conditions_Sunny            0\n",
       "cat_pipeline__Weather_conditions_Windy            0\n",
       "cat_pipeline__Road_traffic_density_Jam            0\n",
       "cat_pipeline__Road_traffic_density_Low            0\n",
       "cat_pipeline__Road_traffic_density_Medium         0\n",
       "cat_pipeline__Type_of_order_Drinks                0\n",
       "cat_pipeline__Type_of_order_Meal                  0\n",
       "cat_pipeline__Type_of_order_Snack                 0\n",
       "cat_pipeline__Type_of_vehicle_electric_scooter    0\n",
       "cat_pipeline__Type_of_vehicle_motorcycle          0\n",
       "cat_pipeline__Type_of_vehicle_scooter             0\n",
       "cat_pipeline__Festival_Yes                        0\n",
       "cat_pipeline__City_Semi-Urban                     0\n",
       "cat_pipeline__City_Urban                          0\n",
       "dtype: int64"
      ]
     },
     "execution_count": 15,
     "metadata": {},
     "output_type": "execute_result"
    }
   ],
   "source": [
    "# No Na value Now \n",
    "X_train.isna().sum()"
   ]
  },
  {
   "cell_type": "code",
   "execution_count": 16,
   "id": "5781f7b1",
   "metadata": {
    "scrolled": true
   },
   "outputs": [
    {
     "data": {
      "text/html": [
       "<div>\n",
       "<style scoped>\n",
       "    .dataframe tbody tr th:only-of-type {\n",
       "        vertical-align: middle;\n",
       "    }\n",
       "\n",
       "    .dataframe tbody tr th {\n",
       "        vertical-align: top;\n",
       "    }\n",
       "\n",
       "    .dataframe thead th {\n",
       "        text-align: right;\n",
       "    }\n",
       "</style>\n",
       "<table border=\"1\" class=\"dataframe\">\n",
       "  <thead>\n",
       "    <tr style=\"text-align: right;\">\n",
       "      <th></th>\n",
       "      <th>num_pipeline__Delivery_person_Age</th>\n",
       "      <th>num_pipeline__Delivery_person_Ratings</th>\n",
       "      <th>num_pipeline__Vehicle_condition</th>\n",
       "      <th>num_pipeline__multiple_deliveries</th>\n",
       "      <th>num_pipeline__Order_pickup_time</th>\n",
       "      <th>num_pipeline__Year</th>\n",
       "      <th>num_pipeline__Month</th>\n",
       "      <th>num_pipeline__Day</th>\n",
       "      <th>cat_pipeline__Weather_conditions_Fog</th>\n",
       "      <th>cat_pipeline__Weather_conditions_Sandstorms</th>\n",
       "      <th>...</th>\n",
       "      <th>cat_pipeline__Road_traffic_density_Medium</th>\n",
       "      <th>cat_pipeline__Type_of_order_Drinks</th>\n",
       "      <th>cat_pipeline__Type_of_order_Meal</th>\n",
       "      <th>cat_pipeline__Type_of_order_Snack</th>\n",
       "      <th>cat_pipeline__Type_of_vehicle_electric_scooter</th>\n",
       "      <th>cat_pipeline__Type_of_vehicle_motorcycle</th>\n",
       "      <th>cat_pipeline__Type_of_vehicle_scooter</th>\n",
       "      <th>cat_pipeline__Festival_Yes</th>\n",
       "      <th>cat_pipeline__City_Semi-Urban</th>\n",
       "      <th>cat_pipeline__City_Urban</th>\n",
       "    </tr>\n",
       "  </thead>\n",
       "  <tbody>\n",
       "    <tr>\n",
       "      <th>0</th>\n",
       "      <td>-1.311544</td>\n",
       "      <td>-0.660873</td>\n",
       "      <td>-1.220275</td>\n",
       "      <td>-1.367578</td>\n",
       "      <td>-0.470554</td>\n",
       "      <td>0.0</td>\n",
       "      <td>-0.121201</td>\n",
       "      <td>1.228795</td>\n",
       "      <td>-0.4504</td>\n",
       "      <td>2.269827</td>\n",
       "      <td>...</td>\n",
       "      <td>-0.563656</td>\n",
       "      <td>1.727210</td>\n",
       "      <td>-0.574862</td>\n",
       "      <td>-0.578620</td>\n",
       "      <td>-0.296976</td>\n",
       "      <td>0.843826</td>\n",
       "      <td>-0.70809</td>\n",
       "      <td>-0.12134</td>\n",
       "      <td>-0.04256</td>\n",
       "      <td>1.850089</td>\n",
       "    </tr>\n",
       "    <tr>\n",
       "      <th>1</th>\n",
       "      <td>-1.487547</td>\n",
       "      <td>1.346146</td>\n",
       "      <td>-1.220275</td>\n",
       "      <td>0.526678</td>\n",
       "      <td>-0.470554</td>\n",
       "      <td>0.0</td>\n",
       "      <td>-0.908204</td>\n",
       "      <td>-1.195938</td>\n",
       "      <td>-0.4504</td>\n",
       "      <td>-0.440562</td>\n",
       "      <td>...</td>\n",
       "      <td>-0.563656</td>\n",
       "      <td>1.727210</td>\n",
       "      <td>-0.574862</td>\n",
       "      <td>-0.578620</td>\n",
       "      <td>-0.296976</td>\n",
       "      <td>0.843826</td>\n",
       "      <td>-0.70809</td>\n",
       "      <td>-0.12134</td>\n",
       "      <td>-0.04256</td>\n",
       "      <td>1.850089</td>\n",
       "    </tr>\n",
       "    <tr>\n",
       "      <th>2</th>\n",
       "      <td>-0.079526</td>\n",
       "      <td>0.543338</td>\n",
       "      <td>-1.220275</td>\n",
       "      <td>0.526678</td>\n",
       "      <td>-0.463156</td>\n",
       "      <td>0.0</td>\n",
       "      <td>-0.121201</td>\n",
       "      <td>1.439641</td>\n",
       "      <td>-0.4504</td>\n",
       "      <td>-0.440562</td>\n",
       "      <td>...</td>\n",
       "      <td>-0.563656</td>\n",
       "      <td>1.727210</td>\n",
       "      <td>-0.574862</td>\n",
       "      <td>-0.578620</td>\n",
       "      <td>-0.296976</td>\n",
       "      <td>0.843826</td>\n",
       "      <td>-0.70809</td>\n",
       "      <td>-0.12134</td>\n",
       "      <td>-0.04256</td>\n",
       "      <td>-0.540514</td>\n",
       "    </tr>\n",
       "    <tr>\n",
       "      <th>3</th>\n",
       "      <td>-1.311544</td>\n",
       "      <td>0.543338</td>\n",
       "      <td>1.191710</td>\n",
       "      <td>-1.367578</td>\n",
       "      <td>-0.396573</td>\n",
       "      <td>0.0</td>\n",
       "      <td>-0.121201</td>\n",
       "      <td>-1.195938</td>\n",
       "      <td>-0.4504</td>\n",
       "      <td>2.269827</td>\n",
       "      <td>...</td>\n",
       "      <td>-0.563656</td>\n",
       "      <td>1.727210</td>\n",
       "      <td>-0.574862</td>\n",
       "      <td>-0.578620</td>\n",
       "      <td>-0.296976</td>\n",
       "      <td>-1.185079</td>\n",
       "      <td>1.41225</td>\n",
       "      <td>-0.12134</td>\n",
       "      <td>-0.04256</td>\n",
       "      <td>-0.540514</td>\n",
       "    </tr>\n",
       "    <tr>\n",
       "      <th>4</th>\n",
       "      <td>0.096477</td>\n",
       "      <td>-1.062277</td>\n",
       "      <td>1.191710</td>\n",
       "      <td>0.526678</td>\n",
       "      <td>-0.470554</td>\n",
       "      <td>0.0</td>\n",
       "      <td>-0.908204</td>\n",
       "      <td>-1.195938</td>\n",
       "      <td>-0.4504</td>\n",
       "      <td>2.269827</td>\n",
       "      <td>...</td>\n",
       "      <td>-0.563656</td>\n",
       "      <td>-0.578968</td>\n",
       "      <td>-0.574862</td>\n",
       "      <td>1.728249</td>\n",
       "      <td>-0.296976</td>\n",
       "      <td>-1.185079</td>\n",
       "      <td>1.41225</td>\n",
       "      <td>-0.12134</td>\n",
       "      <td>-0.04256</td>\n",
       "      <td>-0.540514</td>\n",
       "    </tr>\n",
       "  </tbody>\n",
       "</table>\n",
       "<p>5 rows × 25 columns</p>\n",
       "</div>"
      ],
      "text/plain": [
       "   num_pipeline__Delivery_person_Age  num_pipeline__Delivery_person_Ratings  \\\n",
       "0                          -1.311544                              -0.660873   \n",
       "1                          -1.487547                               1.346146   \n",
       "2                          -0.079526                               0.543338   \n",
       "3                          -1.311544                               0.543338   \n",
       "4                           0.096477                              -1.062277   \n",
       "\n",
       "   num_pipeline__Vehicle_condition  num_pipeline__multiple_deliveries  \\\n",
       "0                        -1.220275                          -1.367578   \n",
       "1                        -1.220275                           0.526678   \n",
       "2                        -1.220275                           0.526678   \n",
       "3                         1.191710                          -1.367578   \n",
       "4                         1.191710                           0.526678   \n",
       "\n",
       "   num_pipeline__Order_pickup_time  num_pipeline__Year  num_pipeline__Month  \\\n",
       "0                        -0.470554                 0.0            -0.121201   \n",
       "1                        -0.470554                 0.0            -0.908204   \n",
       "2                        -0.463156                 0.0            -0.121201   \n",
       "3                        -0.396573                 0.0            -0.121201   \n",
       "4                        -0.470554                 0.0            -0.908204   \n",
       "\n",
       "   num_pipeline__Day  cat_pipeline__Weather_conditions_Fog  \\\n",
       "0           1.228795                               -0.4504   \n",
       "1          -1.195938                               -0.4504   \n",
       "2           1.439641                               -0.4504   \n",
       "3          -1.195938                               -0.4504   \n",
       "4          -1.195938                               -0.4504   \n",
       "\n",
       "   cat_pipeline__Weather_conditions_Sandstorms  ...  \\\n",
       "0                                     2.269827  ...   \n",
       "1                                    -0.440562  ...   \n",
       "2                                    -0.440562  ...   \n",
       "3                                     2.269827  ...   \n",
       "4                                     2.269827  ...   \n",
       "\n",
       "   cat_pipeline__Road_traffic_density_Medium  \\\n",
       "0                                  -0.563656   \n",
       "1                                  -0.563656   \n",
       "2                                  -0.563656   \n",
       "3                                  -0.563656   \n",
       "4                                  -0.563656   \n",
       "\n",
       "   cat_pipeline__Type_of_order_Drinks  cat_pipeline__Type_of_order_Meal  \\\n",
       "0                            1.727210                         -0.574862   \n",
       "1                            1.727210                         -0.574862   \n",
       "2                            1.727210                         -0.574862   \n",
       "3                            1.727210                         -0.574862   \n",
       "4                           -0.578968                         -0.574862   \n",
       "\n",
       "   cat_pipeline__Type_of_order_Snack  \\\n",
       "0                          -0.578620   \n",
       "1                          -0.578620   \n",
       "2                          -0.578620   \n",
       "3                          -0.578620   \n",
       "4                           1.728249   \n",
       "\n",
       "   cat_pipeline__Type_of_vehicle_electric_scooter  \\\n",
       "0                                       -0.296976   \n",
       "1                                       -0.296976   \n",
       "2                                       -0.296976   \n",
       "3                                       -0.296976   \n",
       "4                                       -0.296976   \n",
       "\n",
       "   cat_pipeline__Type_of_vehicle_motorcycle  \\\n",
       "0                                  0.843826   \n",
       "1                                  0.843826   \n",
       "2                                  0.843826   \n",
       "3                                 -1.185079   \n",
       "4                                 -1.185079   \n",
       "\n",
       "   cat_pipeline__Type_of_vehicle_scooter  cat_pipeline__Festival_Yes  \\\n",
       "0                               -0.70809                    -0.12134   \n",
       "1                               -0.70809                    -0.12134   \n",
       "2                               -0.70809                    -0.12134   \n",
       "3                                1.41225                    -0.12134   \n",
       "4                                1.41225                    -0.12134   \n",
       "\n",
       "   cat_pipeline__City_Semi-Urban  cat_pipeline__City_Urban  \n",
       "0                       -0.04256                  1.850089  \n",
       "1                       -0.04256                  1.850089  \n",
       "2                       -0.04256                 -0.540514  \n",
       "3                       -0.04256                 -0.540514  \n",
       "4                       -0.04256                 -0.540514  \n",
       "\n",
       "[5 rows x 25 columns]"
      ]
     },
     "execution_count": 16,
     "metadata": {},
     "output_type": "execute_result"
    }
   ],
   "source": [
    "X_train.head()"
   ]
  },
  {
   "cell_type": "code",
   "execution_count": 17,
   "id": "4b08690a",
   "metadata": {},
   "outputs": [],
   "source": [
    "import numpy as np\n",
    "def evaluate_model(true, predicted):\n",
    "    mae = mean_absolute_error(true, predicted)\n",
    "    mse = mean_squared_error(true, predicted)\n",
    "    rmse = np.sqrt(mean_squared_error(true, predicted))\n",
    "    r2_square = r2_score(true, predicted)\n",
    "    return mae, rmse, r2_square"
   ]
  },
  {
   "cell_type": "code",
   "execution_count": 18,
   "id": "e77572d3",
   "metadata": {},
   "outputs": [
    {
     "data": {
      "text/plain": [
       "(31605, 15)"
      ]
     },
     "execution_count": 18,
     "metadata": {},
     "output_type": "execute_result"
    }
   ],
   "source": [
    "df.shape"
   ]
  },
  {
   "cell_type": "code",
   "execution_count": 19,
   "id": "a11c9fb8",
   "metadata": {},
   "outputs": [
    {
     "name": "stdout",
     "output_type": "stream",
     "text": [
      "LinearRegression\n",
      "Model Training Performance\n",
      "RMSE: 6.119271975902929\n",
      "MAE: 4.874120401857369\n",
      "R2 score 52.068039808756495\n",
      "===================================\n",
      "\n",
      "\n",
      "Lasso\n",
      "Model Training Performance\n",
      "RMSE: 6.123309108947694\n",
      "MAE: 4.874835766512536\n",
      "R2 score 52.00477361185993\n",
      "===================================\n",
      "\n",
      "\n",
      "Ridge\n",
      "Model Training Performance\n",
      "RMSE: 6.119316188682635\n",
      "MAE: 4.874148509251259\n",
      "R2 score 52.067347173142\n",
      "===================================\n",
      "\n",
      "\n",
      "Elasticnet\n",
      "Model Training Performance\n",
      "RMSE: 6.124388897219548\n",
      "MAE: 4.877167347078672\n",
      "R2 score 51.98784510113619\n",
      "===================================\n",
      "\n",
      "\n"
     ]
    },
    {
     "name": "stderr",
     "output_type": "stream",
     "text": [
      "C:\\Users\\Admin\\AppData\\Local\\Temp\\ipykernel_15124\\4079819343.py:16: DataConversionWarning: A column-vector y was passed when a 1d array was expected. Please change the shape of y to (n_samples,), for example using ravel().\n",
      "  model.fit(X_train,y_train)\n"
     ]
    },
    {
     "name": "stdout",
     "output_type": "stream",
     "text": [
      "RFR\n",
      "Model Training Performance\n",
      "RMSE: 5.121045125259645\n",
      "MAE: 4.012922512418035\n",
      "R2 score 66.43065379378139\n",
      "===================================\n",
      "\n",
      "\n"
     ]
    }
   ],
   "source": [
    "## Train multiple models\n",
    "models={\n",
    "    'LinearRegression':LinearRegression(),\n",
    "    'Lasso':Lasso(alpha=0.05,max_iter=10000),\n",
    "    'Ridge':Ridge(max_iter=1000,solver='svd'),\n",
    "    'Elasticnet':ElasticNet(alpha=0.05,max_iter=5000),\n",
    "    'RFR': RandomForestRegressor(max_depth=10, n_estimators=1000, random_state=123,verbose=0)\n",
    "    \n",
    "}\n",
    "trained_model_list=[]\n",
    "model_list=[]\n",
    "r2_list=[]\n",
    "\n",
    "for i in range(len(list(models))):\n",
    "    model=list(models.values())[i]\n",
    "    model.fit(X_train,y_train)\n",
    "\n",
    "    #Make Predictions\n",
    "    y_pred=model.predict(X_test)\n",
    "\n",
    "    mae, rmse, r2_square=evaluate_model(y_test,y_pred)\n",
    "\n",
    "    print(list(models.keys())[i])\n",
    "    model_list.append(list(models.keys())[i])\n",
    "\n",
    "    print('Model Training Performance')\n",
    "    print(\"RMSE:\",rmse)\n",
    "    print(\"MAE:\",mae)\n",
    "    print(\"R2 score\",r2_square*100)\n",
    "\n",
    "    r2_list.append(r2_square)\n",
    "    \n",
    "    print('='*35)\n",
    "    print('\\n')"
   ]
  },
  {
   "cell_type": "code",
   "execution_count": 20,
   "id": "fb73da0c",
   "metadata": {},
   "outputs": [
    {
     "data": {
      "text/plain": [
       "['LinearRegression', 'Lasso', 'Ridge', 'Elasticnet', 'RFR']"
      ]
     },
     "execution_count": 20,
     "metadata": {},
     "output_type": "execute_result"
    }
   ],
   "source": [
    "model_list\n"
   ]
  },
  {
   "cell_type": "code",
   "execution_count": 21,
   "id": "e565cecc",
   "metadata": {},
   "outputs": [
    {
     "name": "stdout",
     "output_type": "stream",
     "text": [
      "0.5342918099696976\n",
      "0.5206803980875649\n",
      "\n",
      "0.5334556339092381\n",
      "0.5200477361185993\n",
      "\n",
      "0.5342917490405594\n",
      "0.52067347173142\n",
      "\n",
      "0.5333278415234382\n",
      "0.5198784510113619\n",
      "\n"
     ]
    },
    {
     "name": "stderr",
     "output_type": "stream",
     "text": [
      "C:\\Users\\Admin\\AppData\\Local\\Temp\\ipykernel_15124\\2337270012.py:7: DataConversionWarning: A column-vector y was passed when a 1d array was expected. Please change the shape of y to (n_samples,), for example using ravel().\n",
      "  model.fit(X_train,y_train)\n"
     ]
    },
    {
     "name": "stdout",
     "output_type": "stream",
     "text": [
      "0.7078462596579354\n",
      "0.6643065379378139\n",
      "\n"
     ]
    }
   ],
   "source": [
    "import seaborn as sns\n",
    "report = {}\n",
    "\n",
    "for i in range(len(models)):\n",
    "    model = list(models.values())[i]\n",
    "    # Train model\n",
    "    model.fit(X_train,y_train)\n",
    "    print(model.score(X_train,y_train))\n",
    "    print(model.score(X_test,y_test))\n",
    "    print()\n",
    "\n",
    "    # Predict Testing data\n",
    "    y_test_pred =model.predict(X_test)\n",
    "    \n",
    "    # Get R2 scores for train and test data\n",
    "    #train_model_score = r2_score(ytrain,y_train_pred)\n",
    "    test_model_score = r2_score(y_test,y_test_pred)\n",
    "\n",
    "    report[list(models.keys())[i]] =  test_model_score\n"
   ]
  },
  {
   "cell_type": "code",
   "execution_count": 22,
   "id": "ad67c889",
   "metadata": {},
   "outputs": [
    {
     "data": {
      "text/plain": [
       "{'LinearRegression': 0.5206803980875649,\n",
       " 'Lasso': 0.5200477361185993,\n",
       " 'Ridge': 0.52067347173142,\n",
       " 'Elasticnet': 0.5198784510113619,\n",
       " 'RFR': 0.6643065379378139}"
      ]
     },
     "execution_count": 22,
     "metadata": {},
     "output_type": "execute_result"
    }
   ],
   "source": [
    "report"
   ]
  },
  {
   "cell_type": "code",
   "execution_count": 23,
   "id": "2b4ce10e",
   "metadata": {},
   "outputs": [
    {
     "data": {
      "text/plain": [
       "(9482,)"
      ]
     },
     "execution_count": 23,
     "metadata": {},
     "output_type": "execute_result"
    }
   ],
   "source": [
    "y_test_pred.shape"
   ]
  },
  {
   "cell_type": "code",
   "execution_count": 24,
   "id": "aa673812",
   "metadata": {},
   "outputs": [
    {
     "data": {
      "text/plain": [
       "20.839392847515356"
      ]
     },
     "execution_count": 24,
     "metadata": {},
     "output_type": "execute_result"
    }
   ],
   "source": [
    "y_test_pred[0]"
   ]
  },
  {
   "cell_type": "code",
   "execution_count": 28,
   "id": "5bca1b5e",
   "metadata": {},
   "outputs": [
    {
     "name": "stdout",
     "output_type": "stream",
     "text": [
      "RandomForestRegressor(max_depth=10, n_estimators=1000, random_state=123)\n"
     ]
    }
   ],
   "source": [
    "#  Max R2 \n",
    "BEST_Model_SCORE  = max(sorted(report.values())) \n",
    "\n",
    "# Best R2 Index Get\n",
    "BEST_model_name = list(report.keys())[list(report.values()).index(BEST_Model_SCORE)]\n",
    "\n",
    "#\n",
    "best_model = models[BEST_model_name]\n",
    "\n"
   ]
  },
  {
   "cell_type": "code",
   "execution_count": 40,
   "id": "d9f0209c",
   "metadata": {},
   "outputs": [
    {
     "name": "stdout",
     "output_type": "stream",
     "text": [
      "[20.83939285]\n"
     ]
    }
   ],
   "source": [
    "predict_new_data = X_test.head(1)\n",
    "print(best_model.predict(predict_new_data))\n"
   ]
  },
  {
   "cell_type": "code",
   "execution_count": 111,
   "id": "e02362c8",
   "metadata": {},
   "outputs": [
    {
     "data": {
      "text/plain": [
       "Index(['Delivery_person_Age', 'Delivery_person_Ratings', 'Weather_conditions',\n",
       "       'Road_traffic_density', 'Vehicle_condition', 'Type_of_order',\n",
       "       'Type_of_vehicle', 'multiple_deliveries', 'Festival', 'City',\n",
       "       'Time_taken (min)', 'Order_pickup_time', 'Year', 'Month', 'Day'],\n",
       "      dtype='object')"
      ]
     },
     "execution_count": 111,
     "metadata": {},
     "output_type": "execute_result"
    }
   ],
   "source": [
    "df.columns"
   ]
  },
  {
   "cell_type": "code",
   "execution_count": 109,
   "id": "4d6ca136",
   "metadata": {},
   "outputs": [
    {
     "name": "stderr",
     "output_type": "stream",
     "text": [
      "C:\\Users\\Admin\\AppData\\Local\\Programs\\Python\\Python311\\Lib\\site-packages\\sklearn\\base.py:439: UserWarning: X does not have valid feature names, but RandomForestRegressor was fitted with feature names\n",
      "  warnings.warn(\n"
     ]
    },
    {
     "data": {
      "text/plain": [
       "array([22.75701709, 24.18300742, 26.92147533, ..., 24.17842488,\n",
       "       29.14778987, 25.86304492])"
      ]
     },
     "execution_count": 109,
     "metadata": {},
     "output_type": "execute_result"
    }
   ],
   "source": [
    "best_model.predict(preprocessor.transform(df.drop(columns=\"Time_taken (min)\")))"
   ]
  },
  {
   "cell_type": "code",
   "execution_count": 101,
   "id": "b78fba68",
   "metadata": {},
   "outputs": [
    {
     "name": "stderr",
     "output_type": "stream",
     "text": [
      "C:\\Users\\Admin\\AppData\\Local\\Programs\\Python\\Python311\\Lib\\site-packages\\sklearn\\base.py:439: UserWarning: X does not have valid feature names, but RandomForestRegressor was fitted with feature names\n",
      "  warnings.warn(\n"
     ]
    },
    {
     "data": {
      "text/plain": [
       "array([22.75701709])"
      ]
     },
     "execution_count": 101,
     "metadata": {},
     "output_type": "execute_result"
    }
   ],
   "source": [
    "best_model.predict(preprocessor.transform(df.head(1)))"
   ]
  }
 ],
 "metadata": {
  "kernelspec": {
   "display_name": "Python 3 (ipykernel)",
   "language": "python",
   "name": "python3"
  },
  "language_info": {
   "codemirror_mode": {
    "name": "ipython",
    "version": 3
   },
   "file_extension": ".py",
   "mimetype": "text/x-python",
   "name": "python",
   "nbconvert_exporter": "python",
   "pygments_lexer": "ipython3",
   "version": "3.11.1"
  }
 },
 "nbformat": 4,
 "nbformat_minor": 5
}
